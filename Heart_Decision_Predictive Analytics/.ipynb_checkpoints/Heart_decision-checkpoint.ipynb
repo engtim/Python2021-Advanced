{
 "cells": [
  {
   "cell_type": "code",
   "execution_count": null,
   "metadata": {
    "id": "sewHlo-Ve5Nw"
   },
   "outputs": [],
   "source": [
    "from IPython.core.interactiveshell import InteractiveShell\n",
    "InteractiveShell.ast_node_interactivity = \"all\"\n",
    "import pandas as pd\n",
    "import seaborn as sns\n",
    "import matplotlib.pyplot as plt\n",
    "import numpy as np"
   ]
  },
  {
   "cell_type": "code",
   "execution_count": null,
   "metadata": {
    "id": "G-vL3pBNfFec"
   },
   "outputs": [],
   "source": [
    "#1: Load the data into Python\n",
    "df = pd.read_csv(r\"C:\\Users\\TIMOTHY\\Desktop\\Python 2021 Advanced\\Assignments\\Heart_Decision_Predictive Analytics\\heart_decision.csv\")\n",
    "df.head(1)"
   ]
  },
  {
   "cell_type": "code",
   "execution_count": null,
   "metadata": {
    "id": "SLtVo-RSfT5D"
   },
   "outputs": [],
   "source": [
    "#Generate descriptive statistics. Descriptive statistics include those that summarize the central tendency, \n",
    "#dispersion and shape of a dataset's distribution. Generate various summary statistics, \n",
    "#excluding NaN values. The output DataFrame index depends on the requested dtypes:\n",
    "df.describe()"
   ]
  },
  {
   "cell_type": "code",
   "execution_count": null,
   "metadata": {
    "id": "s16zEkkdf-IO"
   },
   "outputs": [],
   "source": [
    "# select features and targets\n",
    "target = df.target\n",
    "features = df.drop(columns=['target'])\n",
    "\n",
    "features.head()\n",
    "target.head()"
   ]
  },
  {
   "cell_type": "code",
   "execution_count": null,
   "metadata": {
    "id": "OHTkQA4QfXS5"
   },
   "outputs": [],
   "source": [
    "#Create a countplot of the target\n",
    "ax = sns.countplot(x=target,data=df)\n",
    "ax.set(title=\"Heart Disease vs No Disease\")\n",
    "plt.show()"
   ]
  },
  {
   "cell_type": "code",
   "execution_count": null,
   "metadata": {
    "id": "cmp2mfdBfqwU"
   },
   "outputs": [],
   "source": [
    "plt.hist(df.chol)\n",
    "plt.show()"
   ]
  },
  {
   "cell_type": "code",
   "execution_count": null,
   "metadata": {
    "id": "CtqN_y9tgDZs"
   },
   "outputs": [],
   "source": [
    "# Scale: replaces the values by their Z scores.\n",
    "from sklearn.preprocessing import StandardScaler\n",
    "sc = StandardScaler()\n",
    "\n",
    "scaledfeatures = sc.fit_transform(features) # scale our features"
   ]
  },
  {
   "cell_type": "code",
   "execution_count": null,
   "metadata": {
    "id": "Ja0AivT5gHwG"
   },
   "outputs": [],
   "source": [
    "from sklearn.model_selection import train_test_split\n",
    "\n",
    "features_train, features_test,target_train,target_test = train_test_split(scaledfeatures,target)"
   ]
  },
  {
   "cell_type": "code",
   "execution_count": null,
   "metadata": {
    "id": "K3rdmTkbgLAs"
   },
   "outputs": [],
   "source": [
    "# Decision tree\n",
    "from sklearn.tree import DecisionTreeClassifier\n",
    "\n",
    "model = DecisionTreeClassifier(random_state=0)\n",
    "model.fit(features_train,target_train)"
   ]
  },
  {
   "cell_type": "code",
   "execution_count": null,
   "metadata": {
    "id": "BGUQaaFrgOQq"
   },
   "outputs": [],
   "source": [
    "# predict with your model\n",
    "predictions = model.predict(features_test)\n",
    "predictions"
   ]
  },
  {
   "cell_type": "code",
   "execution_count": null,
   "metadata": {
    "id": "xlqRNONAgR-8"
   },
   "outputs": [],
   "source": [
    "# confusion matrix\n",
    "predictions = model.predict(features_test)\n",
    "predictions.shape\n",
    "\n",
    "pd.crosstab(target_test, predictions,rownames = ['Actual'],colnames = ['Predicted'])"
   ]
  },
  {
   "cell_type": "code",
   "execution_count": null,
   "metadata": {
    "id": "45wt1uz7gVmA"
   },
   "outputs": [],
   "source": [
    "from sklearn.metrics import classification_report\n",
    "# Test Accuracy\n",
    "print('\\n ****** Classification Report *** \\n\\n')\n",
    "print(classification_report(target_test, predictions))"
   ]
  },
  {
   "cell_type": "code",
   "execution_count": null,
   "metadata": {
    "id": "flr88_sygZrW"
   },
   "outputs": [],
   "source": [
    "# plot tree\n",
    "from IPython.display import Image  \n",
    "from sklearn import tree\n",
    "import pydotplus  \n",
    "\n",
    "# conda install pydotplus\n",
    "\n",
    "# Create DOT data\n",
    "dot_data = tree.export_graphviz(model, out_file=None, \n",
    "                                feature_names=features.columns,  \n",
    "                                class_names='target')"
   ]
  },
  {
   "cell_type": "code",
   "execution_count": null,
   "metadata": {
    "id": "ul1zILlSgdU2"
   },
   "outputs": [],
   "source": [
    "# Draw graph\n",
    "graph = pydotplus.graph_from_dot_data(dot_data)  \n",
    "Image(graph.create_png())"
   ]
  }
 ],
 "metadata": {
  "colab": {
   "name": "Decison-Tree-Demo205.ipynb",
   "private_outputs": true,
   "provenance": []
  },
  "kernelspec": {
   "display_name": "Python 3",
   "language": "python",
   "name": "python3"
  },
  "language_info": {
   "codemirror_mode": {
    "name": "ipython",
    "version": 3
   },
   "file_extension": ".py",
   "mimetype": "text/x-python",
   "name": "python",
   "nbconvert_exporter": "python",
   "pygments_lexer": "ipython3",
   "version": "3.8.8"
  }
 },
 "nbformat": 4,
 "nbformat_minor": 1
}
