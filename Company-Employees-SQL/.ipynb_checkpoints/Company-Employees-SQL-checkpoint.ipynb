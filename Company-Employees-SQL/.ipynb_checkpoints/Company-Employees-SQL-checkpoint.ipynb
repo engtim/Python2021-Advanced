{
 "cells": [
  {
   "cell_type": "code",
   "execution_count": 1,
   "metadata": {},
   "outputs": [],
   "source": [
    "#Connecting to MySQL using Python\n",
    "import mysql.connector\n",
    "from mysql.connector import Error"
   ]
  },
  {
   "cell_type": "code",
   "execution_count": 3,
   "metadata": {},
   "outputs": [
    {
     "name": "stdout",
     "output_type": "stream",
     "text": [
      "Connected successfully to MySQL Server Version 8.0.25\n"
     ]
    }
   ],
   "source": [
    "#Connecting to database\n",
    "try:\n",
    "    conn = mysql.connector.connect(host = '127.0.0.1',\n",
    "                                database = 'company',\n",
    "                                user = 'root',\n",
    "                                password = 'Fri21052021')\n",
    "    if conn.is_connected():\n",
    "        db_info = conn.get_server_info()\n",
    "        print(\"Connected successfully to MySQL Server Version\", db_info)\n",
    "    \n",
    "except Error as e:\n",
    "    print(\"Error connecting to MySQL\", e)"
   ]
  },
  {
   "cell_type": "code",
   "execution_count": 4,
   "metadata": {},
   "outputs": [],
   "source": [
    "#Creating a cursor\n",
    "c = conn.cursor()"
   ]
  },
  {
   "cell_type": "code",
   "execution_count": 5,
   "metadata": {},
   "outputs": [
    {
     "name": "stdout",
     "output_type": "stream",
     "text": [
      "Employee table created\n"
     ]
    }
   ],
   "source": [
    "#Creating the Employee table\n",
    "table = \"\"\"CREATE TABLE Employee (\n",
    "employee_id int, first_name varchar(250), last_name varchar(250), email varchar(250), phone_number varchar(12), \n",
    "hire_date date, job_id int, salary float, manager_id int, department_id int)\"\"\"\n",
    "    \n",
    "c.execute(table)\n",
    "print(\"Employee table created\")"
   ]
  },
  {
   "cell_type": "code",
   "execution_count": 6,
   "metadata": {},
   "outputs": [
    {
     "name": "stdout",
     "output_type": "stream",
     "text": [
      "Departments table created\n"
     ]
    }
   ],
   "source": [
    "#Creating Departments table\n",
    "table = \"\"\"CREATE TABLE Departments(\n",
    "department_id varchar(10), department_name varchar(50), location_id varchar(10)\n",
    ")\"\"\"\n",
    "\n",
    "c.execute(table)\n",
    "print(\"Departments table created\")"
   ]
  },
  {
   "cell_type": "code",
   "execution_count": 7,
   "metadata": {},
   "outputs": [
    {
     "name": "stdout",
     "output_type": "stream",
     "text": [
      "Jobs table created\n"
     ]
    }
   ],
   "source": [
    "#Creating Jobs table\n",
    "table = \"\"\"CREATE TABLE Jobs(\n",
    "job_id varchar(10), job_title varchar(250), min_salary float, max_salary float\n",
    ")\"\"\"\n",
    "\n",
    "c.execute(table)\n",
    "print(\"Jobs table created\")"
   ]
  },
  {
   "cell_type": "code",
   "execution_count": 9,
   "metadata": {},
   "outputs": [
    {
     "name": "stdout",
     "output_type": "stream",
     "text": [
      "Data added to Employees table\n"
     ]
    }
   ],
   "source": [
    "#Adding data to the Employees table\n",
    "Employee_info=[\n",
    "    (1, 'Mark', 'Mwenda', 'markmwenda@gmail.com', '0799000000', '2010-12-09', 1, 250000, 1, 7),\n",
    "    (2, 'Dennis', 'Kariuki', 'denniskariuki@gmail.com', '0798111111', '2011-02-01', 2, 185000, 2, 6),\n",
    "    (3, 'Pauline', 'Wairimu', 'paulinewairimu@gmail.com', '0797222222', '2011-03-07', 3, 177000, 3, 6),\n",
    "    (4, 'Mary', 'Njeri', 'marynjeri@gmail.com', '0796333333', '2011-04-03', 4, 75000, 4, 2),\n",
    "    (5, 'Jack', 'Korir', 'jackkorir@gmail.com', '0795444444', '2011-05-01', 5, 70000, 4, 4),\n",
    "    (6, 'Ann', 'Wachuka', 'annwachuka@gmail.com', '0794555555', '2011-06-02', 6, 67000, 4, 2),\n",
    "    (7, 'Steve', 'Kilonzo', 'stevekilonzo@gmail.com', '0793666666', '2011-07-01', 7, 65000, 4, 5),\n",
    "    (8, 'Fiona', 'Atieno', 'fionaatieno@yahoo.com', '0792777777', '2011-08-02', 8, 63000, 4, 3),\n",
    "    (9, 'Frank', 'Nyongesa', 'franknyongesa@gmail.com', '0791888888', '2011-09-03',9, 60000, 4, 7),\n",
    "    (10, 'Philip', 'Otieno', 'philipotieno@gmail.com', '0790999999', '2011-10-01', 10, 60000, 4, 1)\n",
    "]\n",
    "\n",
    "c.executemany(\"INSERT INTO Employee VALUES(%s,%s,%s,%s,%s,%s,%s,%s,%s,%s)\", Employee_info)\n",
    "conn.commit\n",
    "print(\"Data added to Employees table\")"
   ]
  },
  {
   "cell_type": "code",
   "execution_count": 10,
   "metadata": {},
   "outputs": [
    {
     "name": "stderr",
     "output_type": "stream",
     "text": [
      "<>:7: SyntaxWarning: 'tuple' object is not callable; perhaps you missed a comma?\n",
      "<>:7: SyntaxWarning: 'tuple' object is not callable; perhaps you missed a comma?\n",
      "<ipython-input-10-abf52dae8ffc>:7: SyntaxWarning: 'tuple' object is not callable; perhaps you missed a comma?\n",
      "  (5, 'ICT', 20)\n"
     ]
    },
    {
     "ename": "TypeError",
     "evalue": "'tuple' object is not callable",
     "output_type": "error",
     "traceback": [
      "\u001b[1;31m---------------------------------------------------------------------------\u001b[0m",
      "\u001b[1;31mTypeError\u001b[0m                                 Traceback (most recent call last)",
      "\u001b[1;32m<ipython-input-10-abf52dae8ffc>\u001b[0m in \u001b[0;36m<module>\u001b[1;34m\u001b[0m\n\u001b[0;32m      5\u001b[0m     \u001b[1;33m(\u001b[0m\u001b[1;36m3\u001b[0m\u001b[1;33m,\u001b[0m \u001b[1;34m'Customer Care'\u001b[0m\u001b[1;33m,\u001b[0m \u001b[1;36m10\u001b[0m\u001b[1;33m)\u001b[0m\u001b[1;33m,\u001b[0m\u001b[1;33m\u001b[0m\u001b[1;33m\u001b[0m\u001b[0m\n\u001b[0;32m      6\u001b[0m     \u001b[1;33m(\u001b[0m\u001b[1;36m4\u001b[0m\u001b[1;33m,\u001b[0m \u001b[1;34m'Human Resource'\u001b[0m\u001b[1;33m,\u001b[0m \u001b[1;36m10\u001b[0m\u001b[1;33m)\u001b[0m\u001b[1;33m,\u001b[0m\u001b[1;33m\u001b[0m\u001b[1;33m\u001b[0m\u001b[0m\n\u001b[1;32m----> 7\u001b[1;33m     \u001b[1;33m(\u001b[0m\u001b[1;36m5\u001b[0m\u001b[1;33m,\u001b[0m \u001b[1;34m'ICT'\u001b[0m\u001b[1;33m,\u001b[0m \u001b[1;36m20\u001b[0m\u001b[1;33m)\u001b[0m\u001b[1;33m\u001b[0m\u001b[1;33m\u001b[0m\u001b[0m\n\u001b[0m\u001b[0;32m      8\u001b[0m     \u001b[1;33m(\u001b[0m\u001b[1;36m6\u001b[0m\u001b[1;33m,\u001b[0m \u001b[1;34m'Operations'\u001b[0m\u001b[1;33m,\u001b[0m \u001b[1;36m30\u001b[0m\u001b[1;33m)\u001b[0m\u001b[1;33m,\u001b[0m\u001b[1;33m\u001b[0m\u001b[1;33m\u001b[0m\u001b[0m\n\u001b[0;32m      9\u001b[0m     \u001b[1;33m(\u001b[0m\u001b[1;36m7\u001b[0m\u001b[1;33m,\u001b[0m \u001b[1;34m'Administration'\u001b[0m\u001b[1;33m,\u001b[0m \u001b[1;36m30\u001b[0m\u001b[1;33m)\u001b[0m\u001b[1;33m,\u001b[0m\u001b[1;33m\u001b[0m\u001b[1;33m\u001b[0m\u001b[0m\n",
      "\u001b[1;31mTypeError\u001b[0m: 'tuple' object is not callable"
     ]
    }
   ],
   "source": [
    "#Adding data to Departments table\n",
    "Department_info=[\n",
    "    (1, 'Engineering', 20),\n",
    "    (2, 'Sales & Marketing', 20),\n",
    "    (3, 'Customer Care', 10),\n",
    "    (4, 'Human Resource', 10),\n",
    "    (5, 'ICT', 20),\n",
    "    (6, 'Operations', 30),\n",
    "    (7, 'Administration', 30),\n",
    "]\n",
    "\n",
    "c.executemany(\"INSERT INTO Departments VALUES(%s,%s,%s)\", Department_info)\n",
    "conn.commit\n",
    "print(\"Data added to Departments table\")"
   ]
  },
  {
   "cell_type": "code",
   "execution_count": null,
   "metadata": {},
   "outputs": [],
   "source": [
    "#Adding data to jobs table\n",
    "Job_info=[\n",
    "    (1, 'CEO', 230000, 250000),\n",
    "    (2, 'COO', 175000, 185000),\n",
    "    (3, 'Operations Manager', 64000, 67000),\n",
    "    (4, 'Marketing Coordinator', 62000, 65000),\n",
    "    (5, 'Human Resource Manager', 65000,70000),\n",
    "    (6, 'Sales Officer', 60000, 63000),\n",
    "    (7, 'Web Designer', 70000, 75000),\n",
    "    (8, 'Customer Care Officer', 60000, 60000),\n",
    "    (9, 'Receptionist', 60000, 60000),\n",
    "    (10, 'Chief Engineer', 170000, 177000)\n",
    "]\n",
    "\n",
    "c.executemany(\"INSERT INTO Jobs VALUES(%s,%s,%s,%s)\", Job_info)\n",
    "conn.commit\n",
    "print(\"Data added to Jobs table\")"
   ]
  },
  {
   "cell_type": "code",
   "execution_count": null,
   "metadata": {},
   "outputs": [],
   "source": [
    "#Displaying contents of the Employee table\n",
    "table=\"SELECT * FROM Employee\"\n",
    "\n",
    "c.execute (table)\n",
    "result=c.fetchall()\n",
    "for row in result:\n",
    "    print (row)"
   ]
  },
  {
   "cell_type": "code",
   "execution_count": null,
   "metadata": {},
   "outputs": [],
   "source": [
    "#Displaying the contents of the Department table\n",
    "table = \"SELECT * FROM Departments\"\n",
    "\n",
    "c.execute(table)\n",
    "result=c.fetchall()\n",
    "for row in result:\n",
    "    print(row)"
   ]
  },
  {
   "cell_type": "code",
   "execution_count": null,
   "metadata": {},
   "outputs": [],
   "source": [
    "table = \"SELECT * FROM Jobs\"\n",
    "\n",
    "c.execute(table)\n",
    "result=c.fetchall()\n",
    "for row in result:\n",
    "    print(row)"
   ]
  },
  {
   "cell_type": "code",
   "execution_count": null,
   "metadata": {},
   "outputs": [],
   "source": [
    "#Displaying the contents of all the 3 tables\n",
    "table = \"SELECT * FROM Employee INNER JOIN Departments ON Departments.Department_ID = Employee.Department_ID INNER JOIN Jobs ON Jobs.Job_ID =Employee.Job_ID\"\n",
    "\n",
    "c.execute(table)\n",
    "result=c.fetchall()\n",
    "for row in result:\n",
    "    print(row)"
   ]
  },
  {
   "cell_type": "code",
   "execution_count": null,
   "metadata": {},
   "outputs": [],
   "source": [
    "#Updating the Employee table\n",
    "New_staff = [\n",
    "    (91, 'Annabel','Nganga','annabel_nganga@gmail.com', '0719000000', '2012-02-10', 5, 70000, 4, 4),\n",
    "    (92, 'Esther','Wambui', 'esther_wambui@gmail.com', '0718111111', '2012-01-08', 7, 75000, 4, 5),\n",
    "    (94, 'Migot', 'Ndede', 'migot_ndede@gmail.com', '0717222222', '2012-01-11', 10, 177000, 3, 7)\n",
    "]\n",
    "\n",
    "c.executemany(\"INSERT INTO Employee VALUES(%s, %s, %s, %s, %s, %s, %s, %s, %s, %s)\", New_Staff)\n",
    "conn.commit\n",
    "print(\"Employee Table Updated\")"
   ]
  },
  {
   "cell_type": "code",
   "execution_count": null,
   "metadata": {},
   "outputs": [],
   "source": [
    "#Alter the table Employee\n",
    "table = \"ALTER TABLE Employee ADD Cellphone varchar(12), ADD Physical_Address varchar(250);\"\n",
    "\n",
    "c.execute(table)\n",
    "print(\"Table structure altered\")"
   ]
  },
  {
   "cell_type": "code",
   "execution_count": null,
   "metadata": {},
   "outputs": [],
   "source": [
    "#Updating Employee's Table\n",
    "table = \"UPDATE Employee SET First_Name= 'George' WHERE Employee_id=94\"\n",
    "\n",
    "c.execute(table)\n",
    "conn.commit()\n",
    "print(\"Employee's Table Updated\")"
   ]
  },
  {
   "cell_type": "code",
   "execution_count": null,
   "metadata": {},
   "outputs": [],
   "source": [
    "#Displaying the updated table\n",
    "table = \"SELECT * FROM Employee WHERE Employee_id=94\"\n",
    "\n",
    "c.execute(table)\n",
    "result=c.fetchall()\n",
    "for row in result:\n",
    "    print(row)"
   ]
  },
  {
   "cell_type": "code",
   "execution_count": null,
   "metadata": {},
   "outputs": [],
   "source": [
    "#Deleting employee id 94  \n",
    "table = \"DELETE FROM Employee WHERE Employee_id=94\"\n",
    "\n",
    "c.execute(table)\n",
    "conn.commit()\n",
    "print(\"Employee deleted\")"
   ]
  }
 ],
 "metadata": {
  "kernelspec": {
   "display_name": "Python 3",
   "language": "python",
   "name": "python3"
  },
  "language_info": {
   "codemirror_mode": {
    "name": "ipython",
    "version": 3
   },
   "file_extension": ".py",
   "mimetype": "text/x-python",
   "name": "python",
   "nbconvert_exporter": "python",
   "pygments_lexer": "ipython3",
   "version": "3.8.8"
  }
 },
 "nbformat": 4,
 "nbformat_minor": 4
}
