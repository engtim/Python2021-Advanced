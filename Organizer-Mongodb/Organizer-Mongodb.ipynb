{
 "cells": [
  {
   "cell_type": "code",
   "execution_count": 20,
   "metadata": {},
   "outputs": [],
   "source": [
    "#MongoClient Import\n",
    "from pymongo import MongoClient"
   ]
  },
  {
   "cell_type": "code",
   "execution_count": 21,
   "metadata": {},
   "outputs": [],
   "source": [
    "#database connection\n",
    "url=\"mongodb://localhost:27017/\"\n",
    "client=MongoClient(url)\n",
    "db=client['Organizer']"
   ]
  },
  {
   "cell_type": "code",
   "execution_count": 22,
   "metadata": {},
   "outputs": [],
   "source": [
    "#creating collections\n",
    "collection=db.student\n",
    "collection=db.city\n",
    "collection=db.country\n",
    "collection=db.courses"
   ]
  },
  {
   "cell_type": "code",
   "execution_count": 23,
   "metadata": {},
   "outputs": [
    {
     "name": "stdout",
     "output_type": "stream",
     "text": [
      "Data added successfully\n"
     ]
    }
   ],
   "source": [
    "#Adding data to the student collection\n",
    "db.student.insert_one({\"first_name\":\"Faith\",\"last_Name\":\"Wanja\",\"email\":\"faith_wanja@gmail.com\",\"cell_phone\":\"0946598432\",\"physical_addr\":\"Wall Street\",\"gender\":\"Female\", \"city_id\":\"2\", \"country_id\":\"2\", \"course_id\":\"1\", \"student_id\":\"1\"})\n",
    "db.student.insert_one({\"first_name\":\"Mark\",\"last_Name\":\"Korir\",\"email\":\"mark_korir@gmail.com\",\"cell_phone\":\"0932984746\",\"physical_addr\":\"Embakasi\",\"gender\":\"Male\", \"city_id\":\"1\", \"country_id\":\"1\", \"course_id\":\"4\", \"student_id\":\"2\"})\n",
    "db.student.insert_one({\"first_name\":\"Pauline\",\"last_Name\":\"Wairimu\",\"email\":\"pauline_wairimu@gmail.com\",\"cell_phone\":\"0826316540\",\"physical_addr\":\"Melrose Arch\",\"gender\":\"Female\", \"city_id\":\"4\", \"country_id\":\"4\", \"course_id\":\"3\", \"student_id\":\"3\"})\n",
    "db.student.insert_one({\"first_name\":\"Ann\",\"last_Name\":\"Wachuka\",\"email\":\"ann_wachuka@gmail.com\",\"cell_phone\":\"0865797943\",\"physical_addr\":\"Riley Park\",\"gender\":\"Female\", \"city_id\":\"3\", \"country_id\":\"3\", \"course_id\":\"1\", \"student_id\":\"4\"})\n",
    "db.student.insert_one({\"first_name\":\"Jack\",\"last_Name\":\"Kariuki\",\"email\":\"jack_kariuki@gmail.com\",\"cell_phone\":\"0647693715\",\"physical_addr\":\"Westlands\",\"gender\":\"Male\", \"city_id\":\"1\", \"country_id\":\"1\", \"course_id\":\"2\", \"student_id\":\"5\"})\n",
    "print(\"Data added successfully\")"
   ]
  },
  {
   "cell_type": "code",
   "execution_count": 24,
   "metadata": {},
   "outputs": [
    {
     "name": "stdout",
     "output_type": "stream",
     "text": [
      "Data added successfully\n"
     ]
    }
   ],
   "source": [
    "#Adding data to the city collection\n",
    "cities={\"city_id\":\"1\", 'city_name':'Nairobi'}, {\"city_id\":\"2\",'city_name':'New York'}, {\"city_id\":\"3\",'city_name':'Vancouver'}, {\"city_id\":\"4\",'city_name':'Johannesburg'}\n",
    "db.city.insert_many(cities)\n",
    "print(\"Data added successfully\")"
   ]
  },
  {
   "cell_type": "code",
   "execution_count": 25,
   "metadata": {},
   "outputs": [
    {
     "name": "stdout",
     "output_type": "stream",
     "text": [
      "Data added successfully\n"
     ]
    }
   ],
   "source": [
    "#Adding data to the collection Country\n",
    "countries={\"country_id\":\"1\", 'country_name':'Kenya'}, {\"country_id\":\"2\", 'country_name':'USA'}, {\"country_id\":\"3\",'country_name':'Canada'},{\"country_id\":\"4\",'country_name':'South Africa'}\n",
    "db.country.insert_many(countries)\n",
    "print(\"Data added successfully\")"
   ]
  },
  {
   "cell_type": "code",
   "execution_count": 26,
   "metadata": {},
   "outputs": [
    {
     "name": "stdout",
     "output_type": "stream",
     "text": [
      "Data added successfully\n"
     ]
    }
   ],
   "source": [
    "#Adding data to courses collection\n",
    "courses={\"course_id\":\"1\", 'course_name':'Advanced Python'}, {\"course_id\":\"2\", 'course_name':'Machine Learning'}, {\"course_id\":\"3\", 'course_name':'Artificial Intelligence'}, {\"course_id\":\"4\", 'course_name':'Computer Science'}\n",
    "db.courses.insert_many(courses)\n",
    "print(\"Data added successfully\")"
   ]
  },
  {
   "cell_type": "code",
   "execution_count": 27,
   "metadata": {},
   "outputs": [
    {
     "name": "stdout",
     "output_type": "stream",
     "text": [
      "{'_id': ObjectId('612925556dc5d1ed8a8eb222'), 'first_name': 'Faith', 'last_Name': 'Wanja', 'email': 'faith_wanja@gmail.com', 'cell_phone': '0946598432', 'physical_addr': 'Wall Street', 'gender': 'Female', 'city_id': '2', 'country_id': '2', 'course_id': '1', 'student_id': '1'}\n",
      "{'_id': ObjectId('612925556dc5d1ed8a8eb223'), 'first_name': 'Mark', 'last_Name': 'Korir', 'email': 'mark_korir@gmail.com', 'cell_phone': '0932984746', 'physical_addr': 'Embakasi', 'gender': 'Male', 'city_id': '1', 'country_id': '1', 'course_id': '4', 'student_id': '2'}\n",
      "{'_id': ObjectId('612925556dc5d1ed8a8eb224'), 'first_name': 'Pauline', 'last_Name': 'Wairimu', 'email': 'pauline_wairimu@gmail.com', 'cell_phone': '0826316540', 'physical_addr': 'Melrose Arch', 'gender': 'Female', 'city_id': '4', 'country_id': '4', 'course_id': '3', 'student_id': '3'}\n",
      "{'_id': ObjectId('612925556dc5d1ed8a8eb225'), 'first_name': 'Ann', 'last_Name': 'Wachuka', 'email': 'ann_wachuka@gmail.com', 'cell_phone': '0865797943', 'physical_addr': 'Riley Park', 'gender': 'Female', 'city_id': '3', 'country_id': '3', 'course_id': '1', 'student_id': '4'}\n",
      "{'_id': ObjectId('612925556dc5d1ed8a8eb226'), 'first_name': 'Jack', 'last_Name': 'Kariuki', 'email': 'jack_kariuki@gmail.com', 'cell_phone': '0647693715', 'physical_addr': 'Westlands', 'gender': 'Male', 'city_id': '1', 'country_id': '1', 'course_id': '2', 'student_id': '5'}\n"
     ]
    }
   ],
   "source": [
    "#Displaying the student collection\n",
    "data=db.student.find()\n",
    "for row in data:\n",
    "    print (row)"
   ]
  },
  {
   "cell_type": "code",
   "execution_count": 28,
   "metadata": {},
   "outputs": [
    {
     "name": "stdout",
     "output_type": "stream",
     "text": [
      "{'_id': ObjectId('612925556dc5d1ed8a8eb227'), 'city_id': '1', 'city_name': 'Nairobi'}\n",
      "{'_id': ObjectId('612925556dc5d1ed8a8eb228'), 'city_id': '2', 'city_name': 'New York'}\n",
      "{'_id': ObjectId('612925556dc5d1ed8a8eb229'), 'city_id': '3', 'city_name': 'Vancouver'}\n",
      "{'_id': ObjectId('612925556dc5d1ed8a8eb22a'), 'city_id': '4', 'city_name': 'Johannesburg'}\n"
     ]
    }
   ],
   "source": [
    "#Displaying the city collection\n",
    "data=db.city.find()\n",
    "for row in data:\n",
    "    print(row)"
   ]
  },
  {
   "cell_type": "code",
   "execution_count": 29,
   "metadata": {},
   "outputs": [
    {
     "name": "stdout",
     "output_type": "stream",
     "text": [
      "{'_id': ObjectId('612925566dc5d1ed8a8eb22b'), 'country_id': '1', 'country_name': 'Kenya'}\n",
      "{'_id': ObjectId('612925566dc5d1ed8a8eb22c'), 'country_id': '2', 'country_name': 'USA'}\n",
      "{'_id': ObjectId('612925566dc5d1ed8a8eb22d'), 'country_id': '3', 'country_name': 'Canada'}\n",
      "{'_id': ObjectId('612925566dc5d1ed8a8eb22e'), 'country_id': '4', 'country_name': 'South Africa'}\n"
     ]
    }
   ],
   "source": [
    "#Displaying the country collection\n",
    "data=db.country.find()\n",
    "for row in data:\n",
    "    print(row)"
   ]
  },
  {
   "cell_type": "code",
   "execution_count": 30,
   "metadata": {},
   "outputs": [
    {
     "name": "stdout",
     "output_type": "stream",
     "text": [
      "{'_id': ObjectId('612925566dc5d1ed8a8eb22f'), 'course_id': '1', 'course_name': 'Advanced Python'}\n",
      "{'_id': ObjectId('612925566dc5d1ed8a8eb230'), 'course_id': '2', 'course_name': 'Machine Learning'}\n",
      "{'_id': ObjectId('612925566dc5d1ed8a8eb231'), 'course_id': '3', 'course_name': 'Artificial Intelligence'}\n",
      "{'_id': ObjectId('612925566dc5d1ed8a8eb232'), 'course_id': '4', 'course_name': 'Computer Science'}\n"
     ]
    }
   ],
   "source": [
    "#Displaying courses collection\n",
    "data=db.courses.find()\n",
    "for row in data:\n",
    "    print(row)"
   ]
  },
  {
   "cell_type": "code",
   "execution_count": 31,
   "metadata": {},
   "outputs": [],
   "source": [
    "#displaying data as dataframes using Pandas library\n",
    "import pandas as pd"
   ]
  },
  {
   "cell_type": "code",
   "execution_count": 32,
   "metadata": {},
   "outputs": [
    {
     "data": {
      "text/html": [
       "<div>\n",
       "<style scoped>\n",
       "    .dataframe tbody tr th:only-of-type {\n",
       "        vertical-align: middle;\n",
       "    }\n",
       "\n",
       "    .dataframe tbody tr th {\n",
       "        vertical-align: top;\n",
       "    }\n",
       "\n",
       "    .dataframe thead th {\n",
       "        text-align: right;\n",
       "    }\n",
       "</style>\n",
       "<table border=\"1\" class=\"dataframe\">\n",
       "  <thead>\n",
       "    <tr style=\"text-align: right;\">\n",
       "      <th></th>\n",
       "      <th>first_name</th>\n",
       "      <th>last_Name</th>\n",
       "      <th>email</th>\n",
       "      <th>cell_phone</th>\n",
       "      <th>physical_addr</th>\n",
       "      <th>gender</th>\n",
       "      <th>city_id</th>\n",
       "      <th>country_id</th>\n",
       "      <th>course_id</th>\n",
       "    </tr>\n",
       "    <tr>\n",
       "      <th>student_id</th>\n",
       "      <th></th>\n",
       "      <th></th>\n",
       "      <th></th>\n",
       "      <th></th>\n",
       "      <th></th>\n",
       "      <th></th>\n",
       "      <th></th>\n",
       "      <th></th>\n",
       "      <th></th>\n",
       "    </tr>\n",
       "  </thead>\n",
       "  <tbody>\n",
       "    <tr>\n",
       "      <th>1</th>\n",
       "      <td>Faith</td>\n",
       "      <td>Wanja</td>\n",
       "      <td>faith_wanja@gmail.com</td>\n",
       "      <td>0946598432</td>\n",
       "      <td>Wall Street</td>\n",
       "      <td>Female</td>\n",
       "      <td>2</td>\n",
       "      <td>2</td>\n",
       "      <td>1</td>\n",
       "    </tr>\n",
       "    <tr>\n",
       "      <th>2</th>\n",
       "      <td>Mark</td>\n",
       "      <td>Korir</td>\n",
       "      <td>mark_korir@gmail.com</td>\n",
       "      <td>0932984746</td>\n",
       "      <td>Embakasi</td>\n",
       "      <td>Male</td>\n",
       "      <td>1</td>\n",
       "      <td>1</td>\n",
       "      <td>4</td>\n",
       "    </tr>\n",
       "    <tr>\n",
       "      <th>3</th>\n",
       "      <td>Pauline</td>\n",
       "      <td>Wairimu</td>\n",
       "      <td>pauline_wairimu@gmail.com</td>\n",
       "      <td>0826316540</td>\n",
       "      <td>Melrose Arch</td>\n",
       "      <td>Female</td>\n",
       "      <td>4</td>\n",
       "      <td>4</td>\n",
       "      <td>3</td>\n",
       "    </tr>\n",
       "    <tr>\n",
       "      <th>4</th>\n",
       "      <td>Ann</td>\n",
       "      <td>Wachuka</td>\n",
       "      <td>ann_wachuka@gmail.com</td>\n",
       "      <td>0865797943</td>\n",
       "      <td>Riley Park</td>\n",
       "      <td>Female</td>\n",
       "      <td>3</td>\n",
       "      <td>3</td>\n",
       "      <td>1</td>\n",
       "    </tr>\n",
       "    <tr>\n",
       "      <th>5</th>\n",
       "      <td>Jack</td>\n",
       "      <td>Kariuki</td>\n",
       "      <td>jack_kariuki@gmail.com</td>\n",
       "      <td>0647693715</td>\n",
       "      <td>Westlands</td>\n",
       "      <td>Male</td>\n",
       "      <td>1</td>\n",
       "      <td>1</td>\n",
       "      <td>2</td>\n",
       "    </tr>\n",
       "  </tbody>\n",
       "</table>\n",
       "</div>"
      ],
      "text/plain": [
       "           first_name last_Name                      email  cell_phone  \\\n",
       "student_id                                                               \n",
       "1               Faith     Wanja      faith_wanja@gmail.com  0946598432   \n",
       "2                Mark     Korir       mark_korir@gmail.com  0932984746   \n",
       "3             Pauline   Wairimu  pauline_wairimu@gmail.com  0826316540   \n",
       "4                 Ann   Wachuka      ann_wachuka@gmail.com  0865797943   \n",
       "5                Jack   Kariuki     jack_kariuki@gmail.com  0647693715   \n",
       "\n",
       "           physical_addr  gender city_id country_id course_id  \n",
       "student_id                                                     \n",
       "1            Wall Street  Female       2          2         1  \n",
       "2               Embakasi    Male       1          1         4  \n",
       "3           Melrose Arch  Female       4          4         3  \n",
       "4             Riley Park  Female       3          3         1  \n",
       "5              Westlands    Male       1          1         2  "
      ]
     },
     "execution_count": 32,
     "metadata": {},
     "output_type": "execute_result"
    }
   ],
   "source": [
    "#creating the student dataframe\n",
    "studentdf=pd.DataFrame ([x for x in db.student.find()])\n",
    "#set index for the data in dataframe\n",
    "studentdf.set_index('student_id', inplace=True)\n",
    "#remove default_id by the MongoDB\n",
    "studentdf.drop('_id', inplace = True, axis=1)\n",
    "#display the student dataframe\n",
    "studentdf"
   ]
  },
  {
   "cell_type": "code",
   "execution_count": 33,
   "metadata": {},
   "outputs": [
    {
     "data": {
      "text/html": [
       "<div>\n",
       "<style scoped>\n",
       "    .dataframe tbody tr th:only-of-type {\n",
       "        vertical-align: middle;\n",
       "    }\n",
       "\n",
       "    .dataframe tbody tr th {\n",
       "        vertical-align: top;\n",
       "    }\n",
       "\n",
       "    .dataframe thead th {\n",
       "        text-align: right;\n",
       "    }\n",
       "</style>\n",
       "<table border=\"1\" class=\"dataframe\">\n",
       "  <thead>\n",
       "    <tr style=\"text-align: right;\">\n",
       "      <th></th>\n",
       "      <th>city_name</th>\n",
       "    </tr>\n",
       "    <tr>\n",
       "      <th>city_id</th>\n",
       "      <th></th>\n",
       "    </tr>\n",
       "  </thead>\n",
       "  <tbody>\n",
       "    <tr>\n",
       "      <th>1</th>\n",
       "      <td>Nairobi</td>\n",
       "    </tr>\n",
       "    <tr>\n",
       "      <th>2</th>\n",
       "      <td>New York</td>\n",
       "    </tr>\n",
       "    <tr>\n",
       "      <th>3</th>\n",
       "      <td>Vancouver</td>\n",
       "    </tr>\n",
       "    <tr>\n",
       "      <th>4</th>\n",
       "      <td>Johannesburg</td>\n",
       "    </tr>\n",
       "  </tbody>\n",
       "</table>\n",
       "</div>"
      ],
      "text/plain": [
       "            city_name\n",
       "city_id              \n",
       "1             Nairobi\n",
       "2            New York\n",
       "3           Vancouver\n",
       "4        Johannesburg"
      ]
     },
     "execution_count": 33,
     "metadata": {},
     "output_type": "execute_result"
    }
   ],
   "source": [
    "#creating the city dataframe\n",
    "citydf=pd.DataFrame ([x for x in db.city.find()])\n",
    "#set index for the data in the dataframe\n",
    "citydf.set_index(\"city_id\", inplace = True)\n",
    "#remove the default ID column by MongoDB\n",
    "citydf.drop('_id', inplace = True, axis=1)\n",
    "#Display data\n",
    "citydf"
   ]
  },
  {
   "cell_type": "code",
   "execution_count": 34,
   "metadata": {},
   "outputs": [
    {
     "data": {
      "text/html": [
       "<div>\n",
       "<style scoped>\n",
       "    .dataframe tbody tr th:only-of-type {\n",
       "        vertical-align: middle;\n",
       "    }\n",
       "\n",
       "    .dataframe tbody tr th {\n",
       "        vertical-align: top;\n",
       "    }\n",
       "\n",
       "    .dataframe thead th {\n",
       "        text-align: right;\n",
       "    }\n",
       "</style>\n",
       "<table border=\"1\" class=\"dataframe\">\n",
       "  <thead>\n",
       "    <tr style=\"text-align: right;\">\n",
       "      <th></th>\n",
       "      <th>country_name</th>\n",
       "    </tr>\n",
       "    <tr>\n",
       "      <th>country_id</th>\n",
       "      <th></th>\n",
       "    </tr>\n",
       "  </thead>\n",
       "  <tbody>\n",
       "    <tr>\n",
       "      <th>1</th>\n",
       "      <td>Kenya</td>\n",
       "    </tr>\n",
       "    <tr>\n",
       "      <th>2</th>\n",
       "      <td>USA</td>\n",
       "    </tr>\n",
       "    <tr>\n",
       "      <th>3</th>\n",
       "      <td>Canada</td>\n",
       "    </tr>\n",
       "    <tr>\n",
       "      <th>4</th>\n",
       "      <td>South Africa</td>\n",
       "    </tr>\n",
       "  </tbody>\n",
       "</table>\n",
       "</div>"
      ],
      "text/plain": [
       "            country_name\n",
       "country_id              \n",
       "1                  Kenya\n",
       "2                    USA\n",
       "3                 Canada\n",
       "4           South Africa"
      ]
     },
     "execution_count": 34,
     "metadata": {},
     "output_type": "execute_result"
    }
   ],
   "source": [
    "#creating the country dataframe\n",
    "countrydf=pd.DataFrame ([x for x in db.country.find()])\n",
    "#set index\n",
    "countrydf.set_index(\"country_id\", inplace= True)\n",
    "#remove the default ID column by mongoDB\n",
    "countrydf.drop('_id', inplace= True, axis=1)\n",
    "#display the formatted data\n",
    "countrydf"
   ]
  },
  {
   "cell_type": "code",
   "execution_count": 35,
   "metadata": {},
   "outputs": [
    {
     "data": {
      "text/html": [
       "<div>\n",
       "<style scoped>\n",
       "    .dataframe tbody tr th:only-of-type {\n",
       "        vertical-align: middle;\n",
       "    }\n",
       "\n",
       "    .dataframe tbody tr th {\n",
       "        vertical-align: top;\n",
       "    }\n",
       "\n",
       "    .dataframe thead th {\n",
       "        text-align: right;\n",
       "    }\n",
       "</style>\n",
       "<table border=\"1\" class=\"dataframe\">\n",
       "  <thead>\n",
       "    <tr style=\"text-align: right;\">\n",
       "      <th></th>\n",
       "      <th>course_name</th>\n",
       "    </tr>\n",
       "    <tr>\n",
       "      <th>course_id</th>\n",
       "      <th></th>\n",
       "    </tr>\n",
       "  </thead>\n",
       "  <tbody>\n",
       "    <tr>\n",
       "      <th>1</th>\n",
       "      <td>Advanced Python</td>\n",
       "    </tr>\n",
       "    <tr>\n",
       "      <th>2</th>\n",
       "      <td>Machine Learning</td>\n",
       "    </tr>\n",
       "    <tr>\n",
       "      <th>3</th>\n",
       "      <td>Artificial Intelligence</td>\n",
       "    </tr>\n",
       "    <tr>\n",
       "      <th>4</th>\n",
       "      <td>Computer Science</td>\n",
       "    </tr>\n",
       "  </tbody>\n",
       "</table>\n",
       "</div>"
      ],
      "text/plain": [
       "                       course_name\n",
       "course_id                         \n",
       "1                  Advanced Python\n",
       "2                 Machine Learning\n",
       "3          Artificial Intelligence\n",
       "4                 Computer Science"
      ]
     },
     "execution_count": 35,
     "metadata": {},
     "output_type": "execute_result"
    }
   ],
   "source": [
    "#Format the data retieved from the Courses collection using pandas\n",
    "coursesdf=pd.DataFrame ([x for x in db.courses.find()])\n",
    "#set index for the data\n",
    "coursesdf.set_index(\"course_id\", inplace=True)\n",
    "#remove the _id column from the presentation\n",
    "coursesdf.drop(\"_id\", inplace = True, axis=1)\n",
    "#do data presentation\n",
    "coursesdf"
   ]
  },
  {
   "cell_type": "code",
   "execution_count": 36,
   "metadata": {},
   "outputs": [
    {
     "data": {
      "text/html": [
       "<div>\n",
       "<style scoped>\n",
       "    .dataframe tbody tr th:only-of-type {\n",
       "        vertical-align: middle;\n",
       "    }\n",
       "\n",
       "    .dataframe tbody tr th {\n",
       "        vertical-align: top;\n",
       "    }\n",
       "\n",
       "    .dataframe thead th {\n",
       "        text-align: right;\n",
       "    }\n",
       "</style>\n",
       "<table border=\"1\" class=\"dataframe\">\n",
       "  <thead>\n",
       "    <tr style=\"text-align: right;\">\n",
       "      <th></th>\n",
       "      <th>first_name</th>\n",
       "      <th>gender</th>\n",
       "      <th>course_name</th>\n",
       "    </tr>\n",
       "    <tr>\n",
       "      <th>student_id</th>\n",
       "      <th></th>\n",
       "      <th></th>\n",
       "      <th></th>\n",
       "    </tr>\n",
       "  </thead>\n",
       "  <tbody>\n",
       "    <tr>\n",
       "      <th>1</th>\n",
       "      <td>Faith</td>\n",
       "      <td>Female</td>\n",
       "      <td>Advanced Python</td>\n",
       "    </tr>\n",
       "    <tr>\n",
       "      <th>2</th>\n",
       "      <td>Mark</td>\n",
       "      <td>Male</td>\n",
       "      <td>Computer Science</td>\n",
       "    </tr>\n",
       "    <tr>\n",
       "      <th>3</th>\n",
       "      <td>Pauline</td>\n",
       "      <td>Female</td>\n",
       "      <td>Artificial Intelligence</td>\n",
       "    </tr>\n",
       "    <tr>\n",
       "      <th>4</th>\n",
       "      <td>Ann</td>\n",
       "      <td>Female</td>\n",
       "      <td>Advanced Python</td>\n",
       "    </tr>\n",
       "    <tr>\n",
       "      <th>5</th>\n",
       "      <td>Jack</td>\n",
       "      <td>Male</td>\n",
       "      <td>Machine Learning</td>\n",
       "    </tr>\n",
       "  </tbody>\n",
       "</table>\n",
       "</div>"
      ],
      "text/plain": [
       "           first_name  gender              course_name\n",
       "student_id                                            \n",
       "1               Faith  Female          Advanced Python\n",
       "2                Mark    Male         Computer Science\n",
       "3             Pauline  Female  Artificial Intelligence\n",
       "4                 Ann  Female          Advanced Python\n",
       "5                Jack    Male         Machine Learning"
      ]
     },
     "execution_count": 36,
     "metadata": {},
     "output_type": "execute_result"
    }
   ],
   "source": [
    "#Join the collection to produce data in a single table\n",
    "#use aggregate function and lookup\n",
    "join_student_courses = db.student.aggregate(\n",
    "[\n",
    "    {\n",
    "         \"$lookup\":{\n",
    "            \"from\":\"courses\",\n",
    "            \"localField\":\"course_id\",\n",
    "            \"foreignField\":\"course_id\",\n",
    "            \"as\":\"student_courses\"\n",
    "        }\n",
    "    },\n",
    "    #select fields to display from the selction\n",
    "{   \"$unwind\":\"$student_courses\" },\n",
    "        {\n",
    "        \"$project\":{\n",
    "            \"_id\":0,\n",
    "            \"student_id\":1,\n",
    "            \"first_name\":1,\n",
    "            \"last_name\":1,\n",
    "            \"gender\":1,\n",
    "            \"course_name\":\"$student_courses.course_name\"\n",
    "            \n",
    "        }\n",
    "    }\n",
    "]\n",
    ")\n",
    "    \n",
    "#Data presentation in tabular form using pandas\n",
    "studentcoursesdf = pd.DataFrame (list(join_student_courses))\n",
    "#setting index\n",
    "studentcoursesdf.set_index(\"student_id\", inplace= True)\n",
    "#displaying the joined table\n",
    "studentcoursesdf\n",
    "#for j in join_student_courses: \n",
    "    #print (j)"
   ]
  },
  {
   "cell_type": "code",
   "execution_count": 37,
   "metadata": {},
   "outputs": [
    {
     "data": {
      "text/html": [
       "<div>\n",
       "<style scoped>\n",
       "    .dataframe tbody tr th:only-of-type {\n",
       "        vertical-align: middle;\n",
       "    }\n",
       "\n",
       "    .dataframe tbody tr th {\n",
       "        vertical-align: top;\n",
       "    }\n",
       "\n",
       "    .dataframe thead th {\n",
       "        text-align: right;\n",
       "    }\n",
       "</style>\n",
       "<table border=\"1\" class=\"dataframe\">\n",
       "  <thead>\n",
       "    <tr style=\"text-align: right;\">\n",
       "      <th></th>\n",
       "      <th>first_name</th>\n",
       "      <th>gender</th>\n",
       "      <th>city</th>\n",
       "      <th>Courses</th>\n",
       "    </tr>\n",
       "    <tr>\n",
       "      <th>student_id</th>\n",
       "      <th></th>\n",
       "      <th></th>\n",
       "      <th></th>\n",
       "      <th></th>\n",
       "    </tr>\n",
       "  </thead>\n",
       "  <tbody>\n",
       "    <tr>\n",
       "      <th>1</th>\n",
       "      <td>Faith</td>\n",
       "      <td>Female</td>\n",
       "      <td>New York</td>\n",
       "      <td>Advanced Python</td>\n",
       "    </tr>\n",
       "    <tr>\n",
       "      <th>2</th>\n",
       "      <td>Mark</td>\n",
       "      <td>Male</td>\n",
       "      <td>Nairobi</td>\n",
       "      <td>Computer Science</td>\n",
       "    </tr>\n",
       "    <tr>\n",
       "      <th>3</th>\n",
       "      <td>Pauline</td>\n",
       "      <td>Female</td>\n",
       "      <td>Johannesburg</td>\n",
       "      <td>Artificial Intelligence</td>\n",
       "    </tr>\n",
       "    <tr>\n",
       "      <th>4</th>\n",
       "      <td>Ann</td>\n",
       "      <td>Female</td>\n",
       "      <td>Vancouver</td>\n",
       "      <td>Advanced Python</td>\n",
       "    </tr>\n",
       "    <tr>\n",
       "      <th>5</th>\n",
       "      <td>Jack</td>\n",
       "      <td>Male</td>\n",
       "      <td>Nairobi</td>\n",
       "      <td>Machine Learning</td>\n",
       "    </tr>\n",
       "  </tbody>\n",
       "</table>\n",
       "</div>"
      ],
      "text/plain": [
       "           first_name  gender          city                  Courses\n",
       "student_id                                                          \n",
       "1               Faith  Female      New York          Advanced Python\n",
       "2                Mark    Male       Nairobi         Computer Science\n",
       "3             Pauline  Female  Johannesburg  Artificial Intelligence\n",
       "4                 Ann  Female     Vancouver          Advanced Python\n",
       "5                Jack    Male       Nairobi         Machine Learning"
      ]
     },
     "execution_count": 37,
     "metadata": {},
     "output_type": "execute_result"
    }
   ],
   "source": [
    "#join the Students collection to City and Country\n",
    "#use aggregate function and lookup\n",
    "join_student_city_country_courses=db.student.aggregate(\n",
    "[\n",
    "    {\n",
    "        \"$lookup\":{\n",
    "            \"from\":\"city\",\n",
    "            \"localField\":\"city_id\",\n",
    "            \"foreignField\":\"city_id\",\n",
    "            \"as\": \"student_city\"\n",
    "        }\n",
    "    },\n",
    "    {\"$unwind\":\"$student_city\"},\n",
    "    {\n",
    "        \"$lookup\":{\n",
    "            \"from\":\"country\",\n",
    "            \"localField\":\"country_id\",\n",
    "            \"foreignField\":\"country_id\",\n",
    "            \"as\": \"student_country\"\n",
    "        }\n",
    "    },\n",
    "    {\"$unwind\":\"$student_country\"},\n",
    "    {\n",
    "        \"$lookup\":{\n",
    "            \"from\":\"courses\",\n",
    "            \"localField\":\"course_id\",\n",
    "            \"foreignField\":\"course_id\",\n",
    "            \"as\": \"student_courses\"\n",
    "        }\n",
    "    },\n",
    "    {\"$unwind\":\"$student_courses\"},\n",
    "    {\n",
    "        \"$project\":{\n",
    "            \"_id\":0,\n",
    "            \"student_id\":1,\n",
    "            \"first_name\":1,\n",
    "            \"last_name\":1,\n",
    "            \"gender\":1,\n",
    "            \"city\":\"$student_city.city_name\",\n",
    "            \"Country_Name\":\"$student_country.country_Name\",\n",
    "            \"Courses\":\"$student_courses.course_name\"\n",
    "        }\n",
    "    }\n",
    "])\n",
    "\n",
    "#Data presentation in tabular form using pandas\n",
    "student_city_country_courses_df=pd.DataFrame (list(join_student_city_country_courses))\n",
    "#setting index\n",
    "student_city_country_courses_df.set_index(\"student_id\", inplace= True)\n",
    "#Displaying the joined table\n",
    "student_city_country_courses_df"
   ]
  },
  {
   "cell_type": "code",
   "execution_count": null,
   "metadata": {},
   "outputs": [],
   "source": []
  }
 ],
 "metadata": {
  "kernelspec": {
   "display_name": "Python 3",
   "language": "python",
   "name": "python3"
  },
  "language_info": {
   "codemirror_mode": {
    "name": "ipython",
    "version": 3
   },
   "file_extension": ".py",
   "mimetype": "text/x-python",
   "name": "python",
   "nbconvert_exporter": "python",
   "pygments_lexer": "ipython3",
   "version": "3.8.8"
  }
 },
 "nbformat": 4,
 "nbformat_minor": 4
}
