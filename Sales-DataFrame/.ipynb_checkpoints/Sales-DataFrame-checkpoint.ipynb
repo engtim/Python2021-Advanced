{
 "cells": [
  {
   "cell_type": "code",
   "execution_count": null,
   "id": "fd4f6398",
   "metadata": {},
   "outputs": [],
   "source": [
    "#importing libraries\n",
    "import pandas as pd"
   ]
  },
  {
   "cell_type": "code",
   "execution_count": null,
   "id": "0879f202",
   "metadata": {},
   "outputs": [],
   "source": [
    "#run and create DataFrame from below code\n",
    "df = pd.DataFrame({'period': [1, 2, 3, 4, 5, 6, 7, 8],\n",
    "                   'A_sales': [12, 14, 15, 13, 18, 20, 19, 24],\n",
    "                   'B_sales': [14, 19, 20, 22, 24, 20, 17, 23]})"
   ]
  },
  {
   "cell_type": "code",
   "execution_count": null,
   "id": "777d6ac3",
   "metadata": {},
   "outputs": [],
   "source": [
    "#Q1: Print the DataFrame and display on screen \n",
    "df"
   ]
  },
  {
   "cell_type": "code",
   "execution_count": null,
   "id": "3da1251a",
   "metadata": {},
   "outputs": [],
   "source": [
    "#Q2: Calculate the difference between the sales in region B and region A for each sales period:\n",
    "#Adding new column to represent difference between B sales and A sales\n",
    "df['diff'] = df['B_sales'] - df['A_sales']\n",
    "#Printing and Displaying the difference Dataframe\n",
    "df"
   ]
  },
  {
   "cell_type": "code",
   "execution_count": null,
   "id": "461d1f1f",
   "metadata": {},
   "outputs": [],
   "source": [
    "#Q3: Calculate and return only the rows where the the sales in region A is greater than the sales in region B:\n",
    "df[df['diff']<0]"
   ]
  }
 ],
 "metadata": {
  "kernelspec": {
   "display_name": "Python 3",
   "language": "python",
   "name": "python3"
  },
  "language_info": {
   "codemirror_mode": {
    "name": "ipython",
    "version": 3
   },
   "file_extension": ".py",
   "mimetype": "text/x-python",
   "name": "python",
   "nbconvert_exporter": "python",
   "pygments_lexer": "ipython3",
   "version": "3.8.8"
  }
 },
 "nbformat": 4,
 "nbformat_minor": 5
}
